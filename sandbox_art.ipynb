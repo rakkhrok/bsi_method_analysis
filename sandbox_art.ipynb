{
  "nbformat": 4,
  "nbformat_minor": 0,
  "metadata": {
    "colab": {
      "provenance": [],
      "authorship_tag": "ABX9TyNprUkNCWyN4MTr8d/0tWHg",
      "include_colab_link": true
    },
    "kernelspec": {
      "name": "python3",
      "display_name": "Python 3"
    },
    "language_info": {
      "name": "python"
    }
  },
  "cells": [
    {
      "cell_type": "markdown",
      "metadata": {
        "id": "view-in-github",
        "colab_type": "text"
      },
      "source": [
        "<a href=\"https://colab.research.google.com/github/rakkhrok/bsi_method_analysis/blob/main/sandbox_art.ipynb\" target=\"_parent\"><img src=\"https://colab.research.google.com/assets/colab-badge.svg\" alt=\"Open In Colab\"/></a>"
      ]
    },
    {
      "cell_type": "markdown",
      "source": [
        "Sandbox um ein bisschen mit der Adversarial robustness toolbox zu spielen:\n",
        "- FGM\n",
        "- Robustness-Metrik verstehen"
      ],
      "metadata": {
        "id": "b838ioHWlEuy"
      }
    },
    {
      "cell_type": "code",
      "execution_count": null,
      "metadata": {
        "id": "PyIWLkhyk31I"
      },
      "outputs": [],
      "source": [
        "# https://adversarial-robustness-toolbox.readthedocs.io/en/latest/\n",
        "# https://adversarial-robustness-toolbox.readthedocs.io/en/latest/modules/attacks/evasion.html#fast-gradient-method-fgm"
      ]
    }
  ]
}